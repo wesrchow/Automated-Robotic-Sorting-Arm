{
 "cells": [
  {
   "cell_type": "code",
   "execution_count": 1,
   "metadata": {},
   "outputs": [
    {
     "name": "stderr",
     "output_type": "stream",
     "text": [
      "Using cache found in /Users/xxni/.cache/torch/hub/ultralytics_yolov5_master\n",
      "YOLOv5 🚀 2023-3-23 Python-3.9.16 torch-1.8.1 CPU\n",
      "\n",
      "Fusing layers... \n",
      "Model summary: 157 layers, 7020913 parameters, 0 gradients\n",
      "Adding AutoShape... \n"
     ]
    }
   ],
   "source": [
    "import torch\n",
    "import cv2\n",
    "\n",
    "# Load the pre-trained YOLOv5 model\n",
    "model = torch.hub.load('ultralytics/yolov5', 'custom', '/Users/xxni/UBC/CPEN291/Project2/yolov5/runs/train/exp/weights/best.pt')\n",
    "\n",
    "# Define the index of your webcam (usually 0 or 1)\n",
    "webcam_index = 0\n",
    "\n",
    "# Open the webcam using OpenCV\n",
    "cap = cv2.VideoCapture(webcam_index)\n",
    "\n"
   ]
  },
  {
   "cell_type": "code",
   "execution_count": 2,
   "metadata": {},
   "outputs": [
    {
     "ename": "",
     "evalue": "",
     "output_type": "error",
     "traceback": [
      "\u001b[1;31mThe Kernel crashed while executing code in the the current cell or a previous cell. Please review the code in the cell(s) to identify a possible cause of the failure. Click <a href='https://aka.ms/vscodeJupyterKernelCrash'>here</a> for more info. View Jupyter <a href='command:jupyter.viewOutput'>log</a> for further details."
     ]
    }
   ],
   "source": [
    "# Define the output video codec and dimensions\n",
    "fourcc = cv2.VideoWriter_fourcc(*'mp4v')\n",
    "width = int(cap.get(cv2.CAP_PROP_FRAME_WIDTH))\n",
    "height = int(cap.get(cv2.CAP_PROP_FRAME_HEIGHT))\n",
    "fps = int(cap.get(cv2.CAP_PROP_FPS))\n",
    "out = cv2.VideoWriter('/Users/xxni/UBC/CPEN291/Project2/output.mp4', fourcc, fps, (width, height))\n",
    "\n",
    "# Loop over each frame in the video file\n",
    "while cap.isOpened():\n",
    "    # Read the next frame from the video file\n",
    "    ret, frame = cap.read()\n",
    "    \n",
    "    if ret:\n",
    "        frame = cv2.cvtColor(frame, cv2.COLOR_BGR2RGB)\n",
    "        # Perform object detection on the current frame using the YOLOv5 model\n",
    "        results = model(frame)\n",
    "\n",
    "        # Draw bounding boxes around the detected objects\n",
    "        results.render()\n",
    "\n",
    "        # Display the results\n",
    "        cv2.imshow('Object Detection', cv2.cvtColor(results.render()[0], cv2.COLOR_RGB2BGR))\n",
    "\n",
    "        # Exit the loop if the 'q' key is pressed\n",
    "        if cv2.waitKey(1) & 0xFF == ord('q'):\n",
    "            break\n",
    "    else:\n",
    "        break\n",
    "# Release the video file and output video file\n",
    "cap.release()\n",
    "out.release()\n",
    "\n",
    "# Close all windows\n",
    "cv2.destroyAllWindows()\n"
   ]
  }
 ],
 "metadata": {
  "kernelspec": {
   "display_name": "base",
   "language": "python",
   "name": "python3"
  },
  "language_info": {
   "codemirror_mode": {
    "name": "ipython",
    "version": 3
   },
   "file_extension": ".py",
   "mimetype": "text/x-python",
   "name": "python",
   "nbconvert_exporter": "python",
   "pygments_lexer": "ipython3",
   "version": "3.9.16"
  },
  "orig_nbformat": 4
 },
 "nbformat": 4,
 "nbformat_minor": 2
}
